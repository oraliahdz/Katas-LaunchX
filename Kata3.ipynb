{
 "cells": [
  {
   "cell_type": "markdown",
   "metadata": {},
   "source": [
    "Problema 1"
   ]
  },
  {
   "cell_type": "code",
   "execution_count": 2,
   "metadata": {},
   "outputs": [
    {
     "name": "stdout",
     "output_type": "stream",
     "text": [
      "Advertencia de impacto\n"
     ]
    }
   ],
   "source": [
    "# Añadir el código necesario para crear una variable que guarde la velocidad del asteroide.\n",
    "# Escribe una expresión de prueba para calcular si necesita una advertencia.\n",
    "# Agregue las instrucciones que se ejecutarán si la expresión de prueba es true o false.\n",
    "velocidadAsteroide =49\n",
    "limiteVelocidad = 25\n",
    "if velocidadAsteroide > limiteVelocidad:\n",
    "    print(\"Advertencia de impacto\")\n",
    "else:\n",
    "    print(\"todo en orden\")"
   ]
  },
  {
   "cell_type": "markdown",
   "metadata": {},
   "source": [
    "Problema 2"
   ]
  },
  {
   "cell_type": "code",
   "execution_count": 3,
   "metadata": {},
   "outputs": [
    {
     "name": "stdout",
     "output_type": "stream",
     "text": [
      "todo en orden\n"
     ]
    }
   ],
   "source": [
    "# Agrega el código para crear una variable para un asteroide que viaja a 19 km/s\n",
    "# Escribe varias expresiones de prueba para determinar si puedes ver el rayo de luz desde la tierra\n",
    "# Agrega las instrucciones que se ejecutarán si las expresiones de prueba son True o False\n",
    "velocidadAsteroide = 19\n",
    "limiteRayo = 20\n",
    "if velocidadAsteroide > limiteRayo:\n",
    "    print(\"Busca en el cielo una luz!\")\n",
    "elif velocidadAsteroide == limiteRayo:\n",
    "    print(\"Busca en el cielo una luz!\")\n",
    "else:\n",
    "    print(\"todo en orden\")"
   ]
  },
  {
   "cell_type": "markdown",
   "metadata": {},
   "source": [
    "Problema 3"
   ]
  },
  {
   "cell_type": "code",
   "execution_count": 12,
   "metadata": {},
   "outputs": [
    {
     "name": "stdout",
     "output_type": "stream",
     "text": [
      "Todo en orden\n"
     ]
    }
   ],
   "source": [
    "\n",
    "# Agrega el código para crear nuevas variables para la velocidad y el tamaño del asteroide\n",
    "# Para probar el código, prueba con varias velocidades y tamaños\n",
    "# Escribe varias expresiones de prueba o combinaciones de expresiones de prueba para determinar qué mensaje se debe enviar a Tierra.\n",
    "\n",
    "minDiametro = 25\n",
    "maxDiametro = 1000\n",
    "limiteVelocidad = 25\n",
    "limiteRayo = 20\n",
    "velocidadAsteroide = 19\n",
    "diametroAsteriode = 25\n",
    "\n",
    "if diametroAsteriode > minDiametro or velocidadAsteroide > limiteVelocidad:\n",
    "    print(\"El asteriode es un peligro!\")\n",
    "elif velocidadAsteroide >= limiteRayo:\n",
    "    print(\"Busca en el cielo una luz\")\n",
    "else:\n",
    "    print(\"Todo en orden\")\n"
   ]
  }
 ],
 "metadata": {
  "interpreter": {
   "hash": "3a024c31d108a01eb921d34fbec3e902b5fefee3c79d3ada1095ba5461ffda05"
  },
  "kernelspec": {
   "display_name": "Python 3.10.2 64-bit",
   "language": "python",
   "name": "python3"
  },
  "language_info": {
   "codemirror_mode": {
    "name": "ipython",
    "version": 3
   },
   "file_extension": ".py",
   "mimetype": "text/x-python",
   "name": "python",
   "nbconvert_exporter": "python",
   "pygments_lexer": "ipython3",
   "version": "3.10.2"
  },
  "orig_nbformat": 4
 },
 "nbformat": 4,
 "nbformat_minor": 2
}
